{
 "cells": [
  {
   "cell_type": "markdown",
   "id": "d3dc6b95",
   "metadata": {},
   "source": [
    "# First Network Programming Homework"
   ]
  },
  {
   "cell_type": "markdown",
   "id": "30a399af",
   "metadata": {},
   "source": [
    "Name: أوس النعمان علي, Number:1703, Submitted To GitHub:https://github.com/Aous3li/Network-Programming-Homeworks/blob/main/Network_Programming_Homework_No1_2023/Network_Programming_Homework_No1_2023.ipynb"
   ]
  },
  {
   "cell_type": "markdown",
   "id": "aadcab56",
   "metadata": {},
   "source": [
    "### Question 1: Python Basics?"
   ]
  },
  {
   "cell_type": "markdown",
   "id": "83d2836a",
   "metadata": {},
   "source": [
    "A-If you have two lists, L1=[‘HTTP’,’HTTPS’,’FTP’,’DNS’] L2=[80,443,20,53], convert it to generate this\n",
    "dictionary d={‘HTTP’:80,’HTTPS’:443,’FTP’:20,’DNS’:53 }"
   ]
  },
  {
   "cell_type": "code",
   "execution_count": 1,
   "id": "835064cc",
   "metadata": {},
   "outputs": [
    {
     "name": "stdout",
     "output_type": "stream",
     "text": [
      "{'HTTP': 80, 'HTTPS': 443, 'FTP': 20, 'DNS': 53}\n"
     ]
    }
   ],
   "source": [
    "L1=['HTTP','HTTPS','FTP','DNS']\n",
    "L2=[80,443,20,53]\n",
    "\n",
    "d = {L1[i]: L2[i] for i in range(len(L1))}\n",
    "\n",
    "print(d)"
   ]
  },
  {
   "cell_type": "markdown",
   "id": "cd67665f",
   "metadata": {},
   "source": [
    "B- Generate and print a list of primary numbers from 1 to 1000.<br>\n",
    "Tips: “List Comprehension”"
   ]
  },
  {
   "cell_type": "code",
   "execution_count": 2,
   "id": "fcc0387e",
   "metadata": {},
   "outputs": [
    {
     "name": "stdout",
     "output_type": "stream",
     "text": [
      "[2, 3, 5, 7, 11, 13, 17, 19, 23, 29, 31, 37, 41, 43, 47, 53, 59, 61, 67, 71, 73, 79, 83, 89, 97, 101, 103, 107, 109, 113, 127, 131, 137, 139, 149, 151, 157, 163, 167, 173, 179, 181, 191, 193, 197, 199, 211, 223, 227, 229, 233, 239, 241, 251, 257, 263, 269, 271, 277, 281, 283, 293, 307, 311, 313, 317, 331, 337, 347, 349, 353, 359, 367, 373, 379, 383, 389, 397, 401, 409, 419, 421, 431, 433, 439, 443, 449, 457, 461, 463, 467, 479, 487, 491, 499, 503, 509, 521, 523, 541, 547, 557, 563, 569, 571, 577, 587, 593, 599, 601, 607, 613, 617, 619, 631, 641, 643, 647, 653, 659, 661, 673, 677, 683, 691, 701, 709, 719, 727, 733, 739, 743, 751, 757, 761, 769, 773, 787, 797, 809, 811, 821, 823, 827, 829, 839, 853, 857, 859, 863, 877, 881, 883, 887, 907, 911, 919, 929, 937, 941, 947, 953, 967, 971, 977, 983, 991, 997]\n"
     ]
    }
   ],
   "source": [
    "def is_prime(n):\n",
    "    if n < 2:\n",
    "        return False\n",
    "    for i in range(2, int(n**0.5) + 1):\n",
    "        if n % i == 0:\n",
    "            return False\n",
    "    return True\n",
    "\n",
    "prime_numbers = [i for i in range(1, 1001) if is_prime(i)]\n",
    "print(prime_numbers)"
   ]
  },
  {
   "cell_type": "markdown",
   "id": "e383b89c",
   "metadata": {},
   "source": [
    "C- L=[‘Network’ , ’Math’ , ’Programming’, ‘Physics’ , ‘Music’] <br>\n",
    "In this exercise, you will implement a Python program that reads the items of the previous list and identifies the items that starts with ‘Ph’ letter, then print it on screen.<br>\n",
    "Tips: using loop, ‘len ()’ , startswith() methods.<br>"
   ]
  },
  {
   "cell_type": "code",
   "execution_count": 4,
   "id": "c5a3509e",
   "metadata": {},
   "outputs": [
    {
     "name": "stdout",
     "output_type": "stream",
     "text": [
      "Physics\n"
     ]
    }
   ],
   "source": [
    "L=['Network' , 'Math' , 'Programming', 'Physics' , 'Music']\n",
    "\n",
    "for x in L:\n",
    "    if x.startswith('Ph'):\n",
    "        print(x)"
   ]
  },
  {
   "cell_type": "markdown",
   "id": "e0ff4e1c",
   "metadata": {},
   "source": [
    "D: Using Dictionary comprehension, Generate this dictionary<br> d={1:2,2:3,3:4,4:5,5:6,6:7,7:8,8:9,9:10,10:11}"
   ]
  },
  {
   "cell_type": "code",
   "execution_count": 7,
   "id": "2754e5dd",
   "metadata": {},
   "outputs": [
    {
     "name": "stdout",
     "output_type": "stream",
     "text": [
      "{1: 2, 2: 3, 3: 4, 4: 5, 5: 6, 6: 7, 7: 8, 8: 9, 9: 10, 10: 11}\n"
     ]
    }
   ],
   "source": [
    "d = {i: i + 1 for i in range(1, 11)}\n",
    "print(d)"
   ]
  },
  {
   "cell_type": "markdown",
   "id": "71f80bc3",
   "metadata": {},
   "source": [
    "### Question 2: Convert from Binary to Decimal"
   ]
  },
  {
   "cell_type": "markdown",
   "id": "3474c81d",
   "metadata": {},
   "source": [
    "Write a Python program that converts a Binary number into its equivalent Decimal number.<br>\n",
    "The program should start reading the binary number from the user. Then the decimal equivalent number must be\n",
    "calculated. Finally, the program must display the equivalent decimal number on the screen. <br>\n",
    "Tips: solve input errors."
   ]
  },
  {
   "cell_type": "code",
   "execution_count": 13,
   "id": "4870c55d",
   "metadata": {},
   "outputs": [
    {
     "name": "stdout",
     "output_type": "stream",
     "text": [
      "Enter a binary number: 1111\n",
      "The decimal equivalent of binary number 1111 is: 15\n"
     ]
    }
   ],
   "source": [
    "binary_number = input(\"Enter a binary number: \")\n",
    "\n",
    "# checkimg if the input is a valid binary number\n",
    "if set(binary_number) == {'0', '1'} or set(binary_number) == {'0'} or set(binary_number) == {'1'}:\n",
    "    decimal_number = int(binary_number, 2)\n",
    "    print(\"The decimal equivalent of binary number {} is: {}\".format(binary_number, decimal_number))\n",
    "else:\n",
    "    print(\"Invalid binary number. Please enter only 0 and 1.\")"
   ]
  },
  {
   "cell_type": "markdown",
   "id": "ecbb6b88",
   "metadata": {},
   "source": [
    "### Question 3: Working with Files” Quiz Program”"
   ]
  },
  {
   "cell_type": "markdown",
   "id": "4fadf268",
   "metadata": {},
   "source": [
    "Type python quiz program that takes a text or json or csv file as input for (20 (Questions, Answers)). It asks the questions and finally computes and prints user results and store user name and result in separate file csv or json file."
   ]
  },
  {
   "cell_type": "code",
   "execution_count": 20,
   "id": "2258edfd",
   "metadata": {},
   "outputs": [],
   "source": [
    "import json\n",
    "\n",
    "# quiz questions and answers\n",
    "quiz = {\n",
    "    \"questions\": [\n",
    "         {\n",
    "            \"question\": \"What does the 'print' function do in Python?\",\n",
    "            \"answer\": \"Displays output\"\n",
    "        },\n",
    "        {\n",
    "            \"question\": \"What symbol denotes a comment in Python?\",\n",
    "            \"answer\": \"#\"\n",
    "        },\n",
    "        {\n",
    "            \"question\": \"What function can you use to get input from a user in Python?\",\n",
    "            \"answer\": \"input\"\n",
    "        },\n",
    "        {\n",
    "            \"question\": \"What keyword is used to define a function in Python?\",\n",
    "            \"answer\": \"def\"\n",
    "        },\n",
    "        {\n",
    "            \"question\": \"What is the correct file extension for Python files?\",\n",
    "            \"answer\": \".py\"\n",
    "        },\n",
    "        {\n",
    "            \"question\": \"What data type is immutable in Python?\",\n",
    "            \"answer\": \"tuple\"\n",
    "        },\n",
    "        {\n",
    "            \"question\": \"Which Python function can be used to cast a value to an integer?\",\n",
    "            \"answer\": \"int\"\n",
    "        },\n",
    "        {\n",
    "            \"question\": \"Which Python keyword is used in a loop to stop the iteration?\",\n",
    "            \"answer\": \"break\"\n",
    "        },\n",
    "        {\n",
    "            \"question\": \"What keyword is used to create a class in Python?\",\n",
    "            \"answer\": \"class\"\n",
    "        },\n",
    "        {\n",
    "            \"question\": \"Which Python function gives the number of elements in a list?\",\n",
    "            \"answer\": \"len\"\n",
    "        },\n",
    "        {\n",
    "            \"question\": \"What is the use of the 'pass' keyword in Python?\",\n",
    "            \"answer\": \"It is a placeholder and does nothing\"\n",
    "        },\n",
    "        {\n",
    "            \"question\": \"Which operator is used for exponentiation in Python?\",\n",
    "            \"answer\": \"**\"\n",
    "        },\n",
    "        {\n",
    "            \"question\": \"Which method can be used to add an element to a Python set?\",\n",
    "            \"answer\": \"add\"\n",
    "        },\n",
    "        {\n",
    "            \"question\": \"Which Python module provides mathematical functions?\",\n",
    "            \"answer\": \"math\"\n",
    "        },\n",
    "        {\n",
    "            \"question\": \"What keyword is used to define a conditional in Python?\",\n",
    "            \"answer\": \"if\"\n",
    "        },\n",
    "        {\n",
    "            \"question\": \"Which Python data type is an ordered sequence?\",\n",
    "            \"answer\": \"list\"\n",
    "        },\n",
    "        {\n",
    "            \"question\": \"How do you create a tuple in Python?\",\n",
    "            \"answer\": \"With parentheses () and comma-separated values\"\n",
    "        },\n",
    "        {\n",
    "            \"question\": \"What is the use of 'self' keyword in Python?\",\n",
    "            \"answer\": \"It refers to the instance of the class\"\n",
    "        },\n",
    "        {\n",
    "            \"question\": \"How do you create a loop in Python?\",\n",
    "            \"answer\": \"With the for or while keyword\"\n",
    "        },\n",
    "        {\n",
    "            \"question\": \"What is a string in Python?\",\n",
    "            \"answer\": \"A sequence of characters\"\n",
    "        }\n",
    "    ]\n",
    "}\n",
    "\n",
    "# Opening a file for writing\n",
    "with open('quiz.json', 'w') as file:\n",
    "    # Writing the quiz to the file\n",
    "    json.dump(quiz, file)"
   ]
  },
  {
   "cell_type": "code",
   "execution_count": 21,
   "id": "9472ec68",
   "metadata": {},
   "outputs": [
    {
     "name": "stdout",
     "output_type": "stream",
     "text": [
      "Enter your name: Aous\n",
      "What does the 'print' function do in Python?\n",
      "Your answer: Displays output\n",
      "What symbol denotes a comment in Python?\n",
      "Your answer: #\n",
      "What function can you use to get input from a user in Python?\n",
      "Your answer: input\n",
      "What keyword is used to define a function in Python?\n",
      "Your answer: def\n",
      "What is the correct file extension for Python files?\n",
      "Your answer: .py\n",
      "What data type is immutable in Python?\n",
      "Your answer: tuple\n",
      "Which Python function can be used to cast a value to an integer?\n",
      "Your answer: int\n",
      "Which Python keyword is used in a loop to stop the iteration?\n",
      "Your answer: break\n",
      "What keyword is used to create a class in Python?\n",
      "Your answer: class\n",
      "Which Python function gives the number of elements in a list?\n",
      "Your answer: len\n",
      "What is the use of the 'pass' keyword in Python?\n",
      "Your answer: I don't know xx\n",
      "Which operator is used for exponentiation in Python?\n",
      "Your answer: **\n",
      "Which method can be used to add an element to a Python set?\n",
      "Your answer: add\n",
      "Which Python module provides mathematical functions?\n",
      "Your answer: math\n",
      "What keyword is used to define a conditional in Python?\n",
      "Your answer: if\n",
      "Which Python data type is an ordered sequence?\n",
      "Your answer: list\n",
      "How do you create a tuple in Python?\n",
      "Your answer: With parentheses () and comma-separated values\n",
      "What is the use of 'self' keyword in Python?\n",
      "Your answer: It refers to the instance of the class\n",
      "How do you create a loop in Python?\n",
      "Your answer: With the for or while keyword\n",
      "What is a string in Python?\n",
      "Your answer: A sequence of characters\n",
      "Aous, your score is: 19 out of 20\n"
     ]
    }
   ],
   "source": [
    "# opennig quiz questions\n",
    "with open('quiz.json', 'r') as file:\n",
    "    quiz = json.load(file)\n",
    "\n",
    "score = 0\n",
    "username = input(\"Enter your name: \")\n",
    "\n",
    "# Asking the questions\n",
    "for item in quiz['questions']:\n",
    "    print(item['question'])\n",
    "    answer = input(\"Your answer: \")\n",
    "    if answer.lower() == item['answer'].lower():\n",
    "        score += 1\n",
    "\n",
    "# printing the results\n",
    "print(f\"{username}, your score is: {score} out of {len(quiz['questions'])}\")\n",
    "\n",
    "# Storing the username and result in a new JSON file\n",
    "result = {\n",
    "    \"username\": username,\n",
    "    \"score\": score\n",
    "}\n",
    "\n",
    "with open('result.json', 'w') as file:\n",
    "    json.dump(result, file)"
   ]
  }
 ],
 "metadata": {
  "kernelspec": {
   "display_name": "Python 3 (ipykernel)",
   "language": "python",
   "name": "python3"
  },
  "language_info": {
   "codemirror_mode": {
    "name": "ipython",
    "version": 3
   },
   "file_extension": ".py",
   "mimetype": "text/x-python",
   "name": "python",
   "nbconvert_exporter": "python",
   "pygments_lexer": "ipython3",
   "version": "3.9.13"
  }
 },
 "nbformat": 4,
 "nbformat_minor": 5
}
